{
  "cells": [
    {
      "attachments": {},
      "cell_type": "markdown",
      "metadata": {
        "id": "xMsNyA3WPrER"
      },
      "source": [
        "## **Notebook PC1_Ativ4 (Part A)**\n",
        "## MLP classifier for the MNIST database.\n",
        "**Professor:** Fernando J. Von Zuben <br>\n",
        "**Aluno(a):** Arthur Felipe dos Santos Fernandes\n"
      ]
    },
    {
      "cell_type": "code",
      "execution_count": 1,
      "metadata": {
        "id": "feKIgQlnaT7U"
      },
      "outputs": [
        {
          "name": "stdout",
          "output_type": "stream",
          "text": [
            "Epoch 1/30\n",
            "1563/1563 [==============================] - 89s 56ms/step - loss: 1.8273 - accuracy: 0.3543\n",
            "Epoch 2/30\n",
            "1563/1563 [==============================] - 88s 56ms/step - loss: 1.6443 - accuracy: 0.4256\n",
            "Epoch 3/30\n",
            "1563/1563 [==============================] - 98s 63ms/step - loss: 1.5676 - accuracy: 0.4523\n",
            "Epoch 4/30\n",
            "1563/1563 [==============================] - 96s 62ms/step - loss: 1.5125 - accuracy: 0.4737\n",
            "Epoch 5/30\n",
            "1563/1563 [==============================] - 101s 65ms/step - loss: 1.4698 - accuracy: 0.4886\n",
            "Epoch 6/30\n",
            "1563/1563 [==============================] - 98s 63ms/step - loss: 1.4300 - accuracy: 0.5008\n",
            "Epoch 7/30\n",
            "1563/1563 [==============================] - 100s 64ms/step - loss: 1.3989 - accuracy: 0.5123\n",
            "Epoch 8/30\n",
            "1563/1563 [==============================] - 96s 61ms/step - loss: 1.3672 - accuracy: 0.5263\n",
            "Epoch 9/30\n",
            "1563/1563 [==============================] - 95s 61ms/step - loss: 1.3403 - accuracy: 0.5334\n",
            "Epoch 10/30\n",
            "1563/1563 [==============================] - 98s 63ms/step - loss: 1.3147 - accuracy: 0.5427\n",
            "Epoch 11/30\n",
            "1563/1563 [==============================] - 100s 64ms/step - loss: 1.2919 - accuracy: 0.5500\n",
            "Epoch 12/30\n",
            "1563/1563 [==============================] - 95s 61ms/step - loss: 1.2717 - accuracy: 0.5602\n",
            "Epoch 13/30\n",
            "1563/1563 [==============================] - 88s 56ms/step - loss: 1.2488 - accuracy: 0.5662\n",
            "Epoch 14/30\n",
            "1563/1563 [==============================] - 89s 57ms/step - loss: 1.2308 - accuracy: 0.5729\n",
            "Epoch 15/30\n",
            "1563/1563 [==============================] - 85s 54ms/step - loss: 1.2096 - accuracy: 0.5799\n",
            "Epoch 16/30\n",
            "1563/1563 [==============================] - 92s 59ms/step - loss: 1.1886 - accuracy: 0.5886\n",
            "Epoch 17/30\n",
            "1563/1563 [==============================] - 89s 57ms/step - loss: 1.1736 - accuracy: 0.5921\n",
            "Epoch 18/30\n",
            "1563/1563 [==============================] - 93s 59ms/step - loss: 1.1548 - accuracy: 0.5997\n",
            "Epoch 19/30\n",
            "1563/1563 [==============================] - 96s 61ms/step - loss: 1.1377 - accuracy: 0.6096\n",
            "Epoch 20/30\n",
            "1563/1563 [==============================] - 89s 57ms/step - loss: 1.1202 - accuracy: 0.6128\n",
            "Epoch 21/30\n",
            "1563/1563 [==============================] - 91s 58ms/step - loss: 1.1050 - accuracy: 0.6183\n",
            "Epoch 22/30\n",
            "1563/1563 [==============================] - 102s 65ms/step - loss: 1.0887 - accuracy: 0.6231\n",
            "Epoch 23/30\n",
            "1563/1563 [==============================] - 86s 55ms/step - loss: 1.0701 - accuracy: 0.6313\n",
            "Epoch 24/30\n",
            "1563/1563 [==============================] - 83s 53ms/step - loss: 1.0539 - accuracy: 0.6365\n",
            "Epoch 25/30\n",
            "1563/1563 [==============================] - 83s 53ms/step - loss: 1.0377 - accuracy: 0.6444\n",
            "Epoch 26/30\n",
            "1563/1563 [==============================] - 91s 58ms/step - loss: 1.0219 - accuracy: 0.6502\n",
            "Epoch 27/30\n",
            "1563/1563 [==============================] - 85s 54ms/step - loss: 1.0076 - accuracy: 0.6522\n",
            "Epoch 28/30\n",
            "1563/1563 [==============================] - 86s 55ms/step - loss: 0.9899 - accuracy: 0.6609\n",
            "Epoch 29/30\n",
            "1563/1563 [==============================] - 89s 57ms/step - loss: 0.9777 - accuracy: 0.6658\n",
            "Epoch 30/30\n",
            "1563/1563 [==============================] - 92s 59ms/step - loss: 0.9631 - accuracy: 0.6694\n",
            "Model: \"sequential\"\n",
            "_________________________________________________________________\n",
            " Layer (type)                Output Shape              Param #   \n",
            "=================================================================\n",
            " flatten (Flatten)           (None, 3072)              0         \n",
            "                                                                 \n",
            " dense (Dense)               (None, 4096)              12587008  \n",
            "                                                                 \n",
            " dropout (Dropout)           (None, 4096)              0         \n",
            "                                                                 \n",
            " dense_1 (Dense)             (None, 10)                40970     \n",
            "                                                                 \n",
            "=================================================================\n",
            "Total params: 12,627,978\n",
            "Trainable params: 12,627,978\n",
            "Non-trainable params: 0\n",
            "_________________________________________________________________\n",
            "Evaluate on test data\n",
            "313/313 [==============================] - 3s 8ms/step - loss: 1.4029 - accuracy: 0.5167\n",
            "test loss, test acc: [1.4029265642166138, 0.516700029373169]\n"
          ]
        }
      ],
      "source": [
        "import tensorflow as tf\n",
        "import os\n",
        "mnist = tf.keras.datasets.cifar10\n",
        "\n",
        "(x_train, y_train),(x_test, y_test) = mnist.load_data()\n",
        "x_train, x_test = x_train / 255.0, x_test / 255.0\n",
        "x_train = x_train.reshape(x_train.shape[0], 3072)\n",
        "x_test = x_test.reshape(x_test.shape[0], 3072)\n",
        "y_train = y_train.ravel()\n",
        "y_test = y_test.ravel()\n",
        "\n",
        "\n",
        "model = tf.keras.models.Sequential([\n",
        "  tf.keras.layers.Flatten(),\n",
        "  tf.keras.layers.Dense(4096, activation=tf.nn.relu),\n",
        "  tf.keras.layers.Dropout(0),\n",
        "  tf.keras.layers.Dense(10, activation=tf.nn.softmax)\n",
        "])\n",
        "model.compile(optimizer='sgd',\n",
        "              loss='sparse_categorical_crossentropy',\n",
        "              metrics=['accuracy'])\n",
        "model.fit(x_train, y_train, epochs=30)\n",
        "model.summary()\n",
        "# Evaluate the model on the test data using `evaluate`\n",
        "print(\"Evaluate on test data\")\n",
        "results = model.evaluate(x_test, y_test)\n",
        "print(\"test loss, test acc:\", results)"
      ]
    },
    {
      "cell_type": "code",
      "execution_count": 2,
      "metadata": {
        "id": "uhFzNNzAhqdA"
      },
      "outputs": [
        {
          "name": "stdout",
          "output_type": "stream",
          "text": [
            "Model saved to disk\n"
          ]
        },
        {
          "data": {
            "text/plain": [
              "'g:\\\\Meu Drive\\\\Classroom\\\\P_IA353A_2023S1\\\\PC1'"
            ]
          },
          "execution_count": 2,
          "metadata": {},
          "output_type": "execute_result"
        }
      ],
      "source": [
        "model_json = model.to_json()\n",
        "json_file = open(\"model_MLP.json\", \"w\")\n",
        "json_file.write(model_json)\n",
        "json_file.close()\n",
        "model.save_weights(\"model_MLP.h5\")\n",
        "print(\"Model saved to disk\")\n",
        "os.getcwd()"
      ]
    },
    {
      "attachments": {},
      "cell_type": "markdown",
      "metadata": {},
      "source": [
        "Analogamente ao caso MNIST, foram utilizados os valores que maximizavam a acurácia dados pela código Parte B. Embora tenha atingido uma acurácia superior à rede ELM, a solução é ruim, dado a complexidade do problema, acredito que seja falta de flexibilidade de ambas as redes."
      ]
    }
  ],
  "metadata": {
    "colab": {
      "provenance": []
    },
    "kernelspec": {
      "display_name": "Python 3",
      "name": "python3"
    },
    "language_info": {
      "codemirror_mode": {
        "name": "ipython",
        "version": 3
      },
      "file_extension": ".py",
      "mimetype": "text/x-python",
      "name": "python",
      "nbconvert_exporter": "python",
      "pygments_lexer": "ipython3",
      "version": "3.11.2"
    }
  },
  "nbformat": 4,
  "nbformat_minor": 0
}
