{
  "cells": [
    {
      "attachments": {},
      "cell_type": "markdown",
      "metadata": {
        "id": "xMsNyA3WPrER"
      },
      "source": [
        "## **Notebook PC1_Ativ4 (Part A)**\n",
        "## MLP classifier for the MNIST database.\n",
        "**Professor:** Fernando J. Von Zuben <br>\n",
        "**Aluno(a):** Arthur Felipe dos Santos Fernandes\n"
      ]
    },
    {
      "cell_type": "code",
      "execution_count": 1,
      "metadata": {
        "id": "feKIgQlnaT7U"
      },
      "outputs": [
        {
          "name": "stdout",
          "output_type": "stream",
          "text": [
            "Epoch 1/30\n",
            "1875/1875 [==============================] - 31s 16ms/step - loss: 0.5648 - accuracy: 0.8683\n",
            "Epoch 2/30\n",
            "1875/1875 [==============================] - 31s 17ms/step - loss: 0.3068 - accuracy: 0.9157\n",
            "Epoch 3/30\n",
            "1875/1875 [==============================] - 31s 17ms/step - loss: 0.2603 - accuracy: 0.9283\n",
            "Epoch 4/30\n",
            "1875/1875 [==============================] - 31s 17ms/step - loss: 0.2306 - accuracy: 0.9359\n",
            "Epoch 5/30\n",
            "1875/1875 [==============================] - 30s 16ms/step - loss: 0.2080 - accuracy: 0.9427\n",
            "Epoch 6/30\n",
            "1875/1875 [==============================] - 29s 16ms/step - loss: 0.1894 - accuracy: 0.9480\n",
            "Epoch 7/30\n",
            "1875/1875 [==============================] - 32s 17ms/step - loss: 0.1741 - accuracy: 0.9520\n",
            "Epoch 8/30\n",
            "1875/1875 [==============================] - 33s 17ms/step - loss: 0.1611 - accuracy: 0.9558\n",
            "Epoch 9/30\n",
            "1875/1875 [==============================] - 30s 16ms/step - loss: 0.1497 - accuracy: 0.9584\n",
            "Epoch 10/30\n",
            "1875/1875 [==============================] - 27s 14ms/step - loss: 0.1403 - accuracy: 0.9620\n",
            "Epoch 11/30\n",
            "1875/1875 [==============================] - 26s 14ms/step - loss: 0.1317 - accuracy: 0.9642\n",
            "Epoch 12/30\n",
            "1875/1875 [==============================] - 26s 14ms/step - loss: 0.1239 - accuracy: 0.9667\n",
            "Epoch 13/30\n",
            "1875/1875 [==============================] - 28s 15ms/step - loss: 0.1171 - accuracy: 0.9685\n",
            "Epoch 14/30\n",
            "1875/1875 [==============================] - 28s 15ms/step - loss: 0.1109 - accuracy: 0.9706\n",
            "Epoch 15/30\n",
            "1875/1875 [==============================] - 28s 15ms/step - loss: 0.1054 - accuracy: 0.9718\n",
            "Epoch 16/30\n",
            "1875/1875 [==============================] - 32s 17ms/step - loss: 0.1003 - accuracy: 0.9734\n",
            "Epoch 17/30\n",
            "1875/1875 [==============================] - 33s 18ms/step - loss: 0.0954 - accuracy: 0.9744\n",
            "Epoch 18/30\n",
            "1875/1875 [==============================] - 31s 16ms/step - loss: 0.0912 - accuracy: 0.9763\n",
            "Epoch 19/30\n",
            "1875/1875 [==============================] - 32s 17ms/step - loss: 0.0873 - accuracy: 0.9771\n",
            "Epoch 20/30\n",
            "1875/1875 [==============================] - 29s 15ms/step - loss: 0.0837 - accuracy: 0.9781\n",
            "Epoch 21/30\n",
            "1875/1875 [==============================] - 28s 15ms/step - loss: 0.0802 - accuracy: 0.9789\n",
            "Epoch 22/30\n",
            "1875/1875 [==============================] - 28s 15ms/step - loss: 0.0771 - accuracy: 0.9798\n",
            "Epoch 23/30\n",
            "1875/1875 [==============================] - 28s 15ms/step - loss: 0.0740 - accuracy: 0.9810\n",
            "Epoch 24/30\n",
            "1875/1875 [==============================] - 28s 15ms/step - loss: 0.0713 - accuracy: 0.9817\n",
            "Epoch 25/30\n",
            "1875/1875 [==============================] - 32s 17ms/step - loss: 0.0687 - accuracy: 0.9825\n",
            "Epoch 26/30\n",
            "1875/1875 [==============================] - 31s 16ms/step - loss: 0.0663 - accuracy: 0.9832\n",
            "Epoch 27/30\n",
            "1875/1875 [==============================] - 31s 16ms/step - loss: 0.0639 - accuracy: 0.9839\n",
            "Epoch 28/30\n",
            "1875/1875 [==============================] - 29s 15ms/step - loss: 0.0617 - accuracy: 0.9843\n",
            "Epoch 29/30\n",
            "1875/1875 [==============================] - 30s 16ms/step - loss: 0.0597 - accuracy: 0.9850\n",
            "Epoch 30/30\n",
            "1875/1875 [==============================] - 32s 17ms/step - loss: 0.0577 - accuracy: 0.9858\n",
            "Model: \"sequential\"\n",
            "_________________________________________________________________\n",
            " Layer (type)                Output Shape              Param #   \n",
            "=================================================================\n",
            " flatten (Flatten)           (32, 784)                 0         \n",
            "                                                                 \n",
            " dense (Dense)               (32, 4096)                3215360   \n",
            "                                                                 \n",
            " dropout (Dropout)           (32, 4096)                0         \n",
            "                                                                 \n",
            " dense_1 (Dense)             (32, 10)                  40970     \n",
            "                                                                 \n",
            "=================================================================\n",
            "Total params: 3,256,330\n",
            "Trainable params: 3,256,330\n",
            "Non-trainable params: 0\n",
            "_________________________________________________________________\n",
            "Evaluate on test data\n",
            "313/313 [==============================] - 1s 3ms/step - loss: 0.0781 - accuracy: 0.9778\n",
            "test loss, test acc: [0.07805436849594116, 0.9778000116348267]\n"
          ]
        }
      ],
      "source": [
        "import tensorflow as tf\n",
        "import os\n",
        "mnist = tf.keras.datasets.mnist\n",
        "\n",
        "(x_train, y_train),(x_test, y_test) = mnist.load_data()\n",
        "x_train, x_test = x_train / 255.0, x_test / 255.0\n",
        "\n",
        "x_train = x_train.reshape(x_train.shape[0], 784)\n",
        "x_test = x_test.reshape(x_test.shape[0], 784)\n",
        "y_train = y_train.ravel()\n",
        "y_test = y_test.ravel()\n",
        "\n",
        "model = tf.keras.models.Sequential([\n",
        "  tf.keras.layers.Flatten(),\n",
        "  tf.keras.layers.Dense(4096, activation=tf.nn.relu),\n",
        "  tf.keras.layers.Dropout(0),\n",
        "  tf.keras.layers.Dense(10, activation=tf.nn.softmax)\n",
        "])\n",
        "model.compile(optimizer='sgd',\n",
        "              loss='sparse_categorical_crossentropy',\n",
        "              metrics=['accuracy'])\n",
        "model.fit(x_train, y_train, epochs=30)\n",
        "model.summary()\n",
        "# Evaluate the model on the test data using `evaluate`\n",
        "print(\"Evaluate on test data\")\n",
        "results = model.evaluate(x_test, y_test)\n",
        "print(\"test loss, test acc:\", results)"
      ]
    },
    {
      "cell_type": "code",
      "execution_count": 2,
      "metadata": {
        "id": "uhFzNNzAhqdA"
      },
      "outputs": [
        {
          "name": "stdout",
          "output_type": "stream",
          "text": [
            "Model saved to disk\n"
          ]
        },
        {
          "data": {
            "text/plain": [
              "'g:\\\\Meu Drive\\\\Classroom\\\\P_IA353A_2023S1\\\\PC1'"
            ]
          },
          "execution_count": 2,
          "metadata": {},
          "output_type": "execute_result"
        }
      ],
      "source": [
        "model_json = model.to_json()\n",
        "json_file = open(\"model_MLP.json\", \"w\")\n",
        "json_file.write(model_json)\n",
        "json_file.close()\n",
        "model.save_weights(\"model_MLP.h5\")\n",
        "print(\"Model saved to disk\")\n",
        "os.getcwd()"
      ]
    },
    {
      "attachments": {},
      "cell_type": "markdown",
      "metadata": {},
      "source": [
        "Mesmo sabendo que a grid-search realizada pelo código Parte B não é uma busca ótima, pois não realiza a busca combinando os parâmetros, foi utilizado os valores ótimos retornados por ela. Foi possível atingir resultados superiores à ELM (cerca de 4% de acurácia a mais) "
      ]
    }
  ],
  "metadata": {
    "colab": {
      "provenance": []
    },
    "kernelspec": {
      "display_name": "Python 3",
      "name": "python3"
    },
    "language_info": {
      "codemirror_mode": {
        "name": "ipython",
        "version": 3
      },
      "file_extension": ".py",
      "mimetype": "text/x-python",
      "name": "python",
      "nbconvert_exporter": "python",
      "pygments_lexer": "ipython3",
      "version": "3.11.2"
    }
  },
  "nbformat": 4,
  "nbformat_minor": 0
}
